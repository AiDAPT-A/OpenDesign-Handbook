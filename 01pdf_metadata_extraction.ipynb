{
  "nbformat": 4,
  "nbformat_minor": 0,
  "metadata": {
    "colab": {
      "provenance": [],
      "authorship_tag": "ABX9TyMRrNOzQ9E4HxA2JhhlwRUU",
      "include_colab_link": true
    },
    "kernelspec": {
      "name": "python3",
      "display_name": "Python 3"
    },
    "language_info": {
      "name": "python"
    }
  },
  "cells": [
    {
      "cell_type": "markdown",
      "metadata": {
        "id": "view-in-github",
        "colab_type": "text"
      },
      "source": [
        "<a href=\"https://colab.research.google.com/github/AiDAPT-A/data-pipelines/blob/main/01pdf_metadata_extraction.ipynb\" target=\"_parent\"><img src=\"https://colab.research.google.com/assets/colab-badge.svg\" alt=\"Open In Colab\"/></a>"
      ]
    },
    {
      "cell_type": "markdown",
      "source": [
        "# Download files and metadata\n",
        "This example shows how to use the library\n",
        "to extract metadata from an HTML page, and\n",
        "download PDF files from the website of the\n",
        "[education repository at TU Delft](https://repository.tudelft.nl/islandora/search/?collection=education)\n",
        "\n",
        "This example uses a custom Python library called `aidapta`.\n",
        "\n"
      ],
      "metadata": {
        "id": "K0D1mT6gJgu5"
      }
    },
    {
      "cell_type": "markdown",
      "source": [
        "## Installation\n",
        "The library can be installed from source as follows:"
      ],
      "metadata": {
        "id": "4EWHU7KVK1bL"
      }
    },
    {
      "cell_type": "code",
      "source": [
        "! git clone https://github.com/AiDAPT-A/data-pipelines.git"
      ],
      "metadata": {
        "colab": {
          "base_uri": "https://localhost:8080/"
        },
        "id": "pPeIcD_sK6qt",
        "outputId": "f194990d-2c68-420d-a13f-5de16aa0ae8b"
      },
      "execution_count": 24,
      "outputs": [
        {
          "output_type": "stream",
          "name": "stdout",
          "text": [
            "Cloning into 'data-pipelines'...\n",
            "remote: Enumerating objects: 161, done.\u001b[K\n",
            "remote: Counting objects: 100% (161/161), done.\u001b[K\n",
            "remote: Compressing objects: 100% (93/93), done.\u001b[K\n",
            "remote: Total 161 (delta 75), reused 124 (delta 49), pack-reused 0\u001b[K\n",
            "Receiving objects: 100% (161/161), 25.74 KiB | 8.58 MiB/s, done.\n",
            "Resolving deltas: 100% (75/75), done.\n"
          ]
        }
      ]
    },
    {
      "cell_type": "code",
      "source": [
        "! cd data-pipelines/ && pip install -e ."
      ],
      "metadata": {
        "id": "pN8AWJs5LQa9"
      },
      "execution_count": null,
      "outputs": []
    },
    {
      "cell_type": "markdown",
      "source": [
        "\n",
        "\n"
      ],
      "metadata": {
        "id": "nF1qe8yonASn"
      }
    }
  ]
}