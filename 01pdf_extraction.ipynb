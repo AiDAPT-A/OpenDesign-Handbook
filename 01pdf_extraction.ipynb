{
  "nbformat": 4,
  "nbformat_minor": 0,
  "metadata": {
    "colab": {
      "provenance": [],
      "authorship_tag": "ABX9TyP+aGRS9g3goaadrI6/sajV",
      "include_colab_link": true
    },
    "kernelspec": {
      "name": "python3",
      "display_name": "Python 3"
    },
    "language_info": {
      "name": "python"
    }
  },
  "cells": [
    {
      "cell_type": "markdown",
      "metadata": {
        "id": "view-in-github",
        "colab_type": "text"
      },
      "source": [
        "<a href=\"https://colab.research.google.com/github/AiDAPT-A/data-pipelines/blob/main/01pdf_extraction.ipynb\" target=\"_parent\"><img src=\"https://colab.research.google.com/assets/colab-badge.svg\" alt=\"Open In Colab\"/></a>"
      ]
    },
    {
      "cell_type": "markdown",
      "source": [
        "# Download files and metadata\n",
        "This example shows how to use the library\n",
        "to extract metadata from an HTML page, and\n",
        "download PDF files from the website of the\n",
        "[education repository at TU Delft](https://repository.tudelft.nl/islandora/search/?collection=education)\n",
        "\n",
        "This example uses a custom Python library called `aidapta`.\n",
        "\n"
      ],
      "metadata": {
        "id": "K0D1mT6gJgu5"
      }
    },
    {
      "cell_type": "markdown",
      "source": [
        "## Installation\n",
        "The library can be installed from source as follows:"
      ],
      "metadata": {
        "id": "4EWHU7KVK1bL"
      }
    },
    {
      "cell_type": "code",
      "source": [
        "! pip install git+https://github.com/AiDAPT-A/data-pipelines.git"
      ],
      "metadata": {
        "colab": {
          "base_uri": "https://localhost:8080/"
        },
        "id": "pPeIcD_sK6qt",
        "outputId": "7170b9a5-2098-423f-8321-84a4a743f23f"
      },
      "execution_count": 30,
      "outputs": [
        {
          "output_type": "stream",
          "name": "stdout",
          "text": [
            "Looking in indexes: https://pypi.org/simple, https://us-python.pkg.dev/colab-wheels/public/simple/\n",
            "Collecting git+https://github.com/AiDAPT-A/data-pipelines.git\n",
            "  Cloning https://github.com/AiDAPT-A/data-pipelines.git to /tmp/pip-req-build-d20ey6_m\n",
            "  Running command git clone --filter=blob:none --quiet https://github.com/AiDAPT-A/data-pipelines.git /tmp/pip-req-build-d20ey6_m\n",
            "  Resolved https://github.com/AiDAPT-A/data-pipelines.git to commit 40abf59f43c09c68a3d8ea1bc19675eb83807a36\n",
            "  Installing build dependencies ... \u001b[?25l\u001b[?25hdone\n",
            "  Getting requirements to build wheel ... \u001b[?25l\u001b[?25hdone\n",
            "  Preparing metadata (pyproject.toml) ... \u001b[?25l\u001b[?25hdone\n",
            "Requirement already satisfied: beautifulsoup4 in /usr/local/lib/python3.8/dist-packages (from aidapta==0.0.1) (4.6.3)\n",
            "Requirement already satisfied: pdfminer.six in /usr/local/lib/python3.8/dist-packages (from aidapta==0.0.1) (20221105)\n",
            "Requirement already satisfied: PyPDF2 in /usr/local/lib/python3.8/dist-packages (from aidapta==0.0.1) (3.0.1)\n",
            "Requirement already satisfied: Pillow in /usr/local/lib/python3.8/dist-packages (from aidapta==0.0.1) (8.4.0)\n",
            "Requirement already satisfied: PyMuPDF in /usr/local/lib/python3.8/dist-packages (from aidapta==0.0.1) (1.21.1)\n",
            "Requirement already satisfied: requests in /usr/local/lib/python3.8/dist-packages (from aidapta==0.0.1) (2.25.1)\n",
            "Requirement already satisfied: charset-normalizer>=2.0.0 in /usr/local/lib/python3.8/dist-packages (from pdfminer.six->aidapta==0.0.1) (3.0.1)\n",
            "Requirement already satisfied: cryptography>=36.0.0 in /usr/local/lib/python3.8/dist-packages (from pdfminer.six->aidapta==0.0.1) (39.0.1)\n",
            "Requirement already satisfied: typing_extensions>=3.10.0.0 in /usr/local/lib/python3.8/dist-packages (from PyPDF2->aidapta==0.0.1) (4.5.0)\n",
            "Requirement already satisfied: chardet<5,>=3.0.2 in /usr/local/lib/python3.8/dist-packages (from requests->aidapta==0.0.1) (4.0.0)\n",
            "Requirement already satisfied: idna<3,>=2.5 in /usr/local/lib/python3.8/dist-packages (from requests->aidapta==0.0.1) (2.10)\n",
            "Requirement already satisfied: certifi>=2017.4.17 in /usr/local/lib/python3.8/dist-packages (from requests->aidapta==0.0.1) (2022.12.7)\n",
            "Requirement already satisfied: urllib3<1.27,>=1.21.1 in /usr/local/lib/python3.8/dist-packages (from requests->aidapta==0.0.1) (1.24.3)\n",
            "Requirement already satisfied: cffi>=1.12 in /usr/local/lib/python3.8/dist-packages (from cryptography>=36.0.0->pdfminer.six->aidapta==0.0.1) (1.15.1)\n",
            "Requirement already satisfied: pycparser in /usr/local/lib/python3.8/dist-packages (from cffi>=1.12->cryptography>=36.0.0->pdfminer.six->aidapta==0.0.1) (2.21)\n",
            "Building wheels for collected packages: aidapta\n",
            "  Building wheel for aidapta (pyproject.toml) ... \u001b[?25l\u001b[?25hdone\n",
            "  Created wheel for aidapta: filename=aidapta-0.0.1-py3-none-any.whl size=7085 sha256=dbaefa1721e229791d064ce1e0e264d639260bd0185e8bd5b883ece9b98882b3\n",
            "  Stored in directory: /tmp/pip-ephem-wheel-cache-i6gnk1uc/wheels/13/79/4f/54ec67b9407f14989064f50baebb0457af728907a9a4da0bf7\n",
            "Successfully built aidapta\n",
            "Installing collected packages: aidapta\n",
            "  Attempting uninstall: aidapta\n",
            "    Found existing installation: aidapta 0.0.1\n",
            "    Uninstalling aidapta-0.0.1:\n",
            "      Successfully uninstalled aidapta-0.0.1\n",
            "Successfully installed aidapta-0.0.1\n"
          ]
        }
      ]
    },
    {
      "cell_type": "markdown",
      "source": [
        "## Example 1: Downloading PDF using file endpoint\n",
        "\n",
        "\n"
      ],
      "metadata": {
        "id": "nF1qe8yonASn"
      }
    },
    {
      "cell_type": "code",
      "source": [
        "# DOWNLOADING PDF file from endpoint\n",
        "from aidapta import metadata\n",
        "\n",
        "file_endpoint= \"https://repository.tudelft.nl/islandora/object/uuid%3A4457ef73-5f7e-47cd-9013-f2a78eca76df/datastream/OBJ/download\" \n",
        "print(\">>> downloading PDF file...\")\n",
        "\n",
        "metadata.download_PDF(file_endpoint, \"downloads\") # file will be store in the ./downloads folder\n",
        "print(\">>> completed download\")"
      ],
      "metadata": {
        "colab": {
          "base_uri": "https://localhost:8080/"
        },
        "id": "2BjrPSQwo2Nt",
        "outputId": "5a357884-041e-4bab-822b-58f6ccc2c0d7"
      },
      "execution_count": 37,
      "outputs": [
        {
          "output_type": "stream",
          "name": "stdout",
          "text": [
            ">>> downloading PDF file...\n",
            ">>> completed download\n"
          ]
        }
      ]
    },
    {
      "cell_type": "markdown",
      "source": [
        "## Example 2: Extracting metadata \n",
        "This example shows how to extract metadata from repository web page. Metadata is organized as a Python dictionary."
      ],
      "metadata": {
        "id": "A2Ip1gTFrxqO"
      }
    },
    {
      "cell_type": "code",
      "source": [
        "# EXTRACTING METADATA as a dictionary\n",
        "from aidapta import metadata\n",
        "\n",
        "print(\">>> extracting metadata ...\")\n",
        "page_url = \"https://repository.tudelft.nl/islandora/object/uuid%3A4457ef73-5f7e-47cd-9013-f2a78eca76df\"\n",
        "\n",
        "result = metadata.extract_metadata_from_html(page_url)\n",
        "print(\"Result: \\n\", result)\n",
        "print(\">>> completed metadata extraction\")"
      ],
      "metadata": {
        "colab": {
          "base_uri": "https://localhost:8080/"
        },
        "id": "fU9kTjDVr4RH",
        "outputId": "ec55f104-ede2-4421-dd39-4cd4eb2a3af3"
      },
      "execution_count": 39,
      "outputs": [
        {
          "output_type": "stream",
          "name": "stdout",
          "text": [
            ">>> extracting metadata ...\n",
            "Result: \n",
            " {'title': 'The Revival of the Just City: A planning and design methodology that allows steering complex urban development and contributes to the revival of the Just City that Amsterdam once was', 'author': 'Luesink, Amber (TU Delft Architecture and the Built Environment) ', 'contributor': 'Viseu Cardoso, Rodrigo (mentor) Kleinhans, R.J. (graduation committee) ', 'degree granting institution': 'Delft University of Technology', 'programme': 'Architecture, Urbanism and Building Sciences', 'date': '2023-01-20', 'abstract': 'Inequality in the city of Amsterdam is growing. While in the 70s, the city was described as a prime example of a Just City, the contemporary metropolis is growing as a city of the elite. Neoliberal planning in recent decades has focused on attracting knowledge workers to Amsterdam with a strategy of privatization, deregulation and decentralization. Not only has this led to a situation where access to the municipality for lower-income groups is compromised, but also to a complex development environment where democratic decision-making is vulnerable.The problems of inequality and undemocratic decision-making in the Amsterdam region call for a new understanding of how to redesign for a Just City, in which spatial justice and inclusive decision-making is protected. Therefore, this thesis research proposes a refined methodology that enables understanding contemporary demands for spatial justice and translating these demands into spatial design. A framework is developed that provides an overview of planning and design principles that must be protected during the development of a Just City. Furthermore, a 5-Step Methodology is being created that urban planners may use to translate these principles into spatial designs. With these instruments, the research contributes to academic knowledge about planning for justice and steering complex urban development.Although (spatial) justice is a value that may never be fully obtained and the fluid definition of a Just City is always evolving, the products of this research contribute to the political discourse on planning for justice and equity. The results may be further developed by integrating different academic disciplines and the perspectives of multiple stakeholders in its progress. Moreover, the performance of the methodology may be explored further by experimenting with it in a practical setting.', 'subject': 'just cityAmsterdamspatial justicecomplex urban developmenturban planning and designingneoliberalism', 'to reference this document use:': 'http://resolver.tudelft.nl/uuid:4457ef73-5f7e-47cd-9013-f2a78eca76df', 'coordinates': '52.377956, 4.897070', 'part of collection': 'Student theses', 'document type': 'master thesis', 'rights': '© 2023 Amber Luesink'}\n",
            ">>> completed metadata extraction\n"
          ]
        }
      ]
    },
    {
      "cell_type": "markdown",
      "source": [
        "## Example 3: Extracting images\n",
        "This example shows how to extract images from a PDF file to a directory. For this code snippet to work, run **Example 1** first.\n",
        "\n",
        "Images are extracted to a directory with the same name as the PDF file."
      ],
      "metadata": {
        "id": "Pl1LYcPKskJi"
      }
    },
    {
      "cell_type": "code",
      "source": [
        "from aidapta import image\n",
        "\n",
        "# PDF file to be process\n",
        "pdf_file = \"./downloads/4563050_AmberLuesink_P5Report_TheRevivaloftheJustCity.pdf\"\n",
        "\n",
        "# Directory to store extracted images. If it doesn't\n",
        "# exist, it will be created\n",
        "img_dir = \"./img/\"\n",
        "\n",
        "print(\">>> Extracting images, it may take a while...\")\n",
        "\n",
        "image.extract_images(pdf_file, img_dir)\n",
        "\n",
        "print(\">>> Finished extracting images\")"
      ],
      "metadata": {
        "id": "idxxh_kmtPP3"
      },
      "execution_count": null,
      "outputs": []
    },
    {
      "cell_type": "markdown",
      "source": [
        "> IMPORTANT: To delete the `img/` directory, run the following command. ALL images will be permanetly delete, this cannot be undone."
      ],
      "metadata": {
        "id": "2lDCmpQJuP0N"
      }
    },
    {
      "cell_type": "code",
      "source": [
        "# Use with caution. This will delete the 'img' directory and all its content:\n",
        "! rm -R ./img"
      ],
      "metadata": {
        "id": "3kdcPE90u9-c"
      },
      "execution_count": 42,
      "outputs": []
    }
  ]
}